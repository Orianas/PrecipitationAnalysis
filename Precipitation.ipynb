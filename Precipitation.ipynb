{
 "cells": [
  {
   "cell_type": "markdown",
   "metadata": {},
   "source": [
    "# Precipitation Analysis and Models"
   ]
  },
  {
   "cell_type": "code",
   "execution_count": 1,
   "metadata": {},
   "outputs": [],
   "source": [
    "import seaborn as sb\n",
    "import pandas as pd\n",
    "import numpy as np"
   ]
  },
  {
   "cell_type": "markdown",
   "metadata": {},
   "source": [
    "### Import and Clean DataFrame\n",
    "#### Import and Examine\n",
    "First thing we need to do is import our data and examine our columns."
   ]
  },
  {
   "cell_type": "code",
   "execution_count": 2,
   "metadata": {},
   "outputs": [
    {
     "name": "stdout",
     "output_type": "stream",
     "text": [
      "{'LONGITUDE', 'HOURLYDRYBULBTEMPF', 'ELEVATION', 'HOURLYPrecip', 'HOURLYStationPressure', 'REPORTTPYE', 'HOURLYRelativeHumidity', 'STATION_NAME', 'STATION', 'LATITUDE'}\n"
     ]
    }
   ],
   "source": [
    "frame = pd.read_csv(\"temp_prcp_jonesboro_2016-2017_selected.csv\", index_col='DATE')\n",
    "\n",
    "cols = set(frame.columns.values)\n",
    "print(cols)"
   ]
  },
  {
   "cell_type": "markdown",
   "metadata": {},
   "source": [
    "There are several columns we can drop out that will not affect our analysis.\n",
    "\n",
    "#### Flush Columns\n",
    "Next we drop our columns we don't need."
   ]
  },
  {
   "cell_type": "code",
   "execution_count": 3,
   "metadata": {},
   "outputs": [],
   "source": [
    "cols -= set(['DATE', 'LATITUDE', 'LONGITUDE', 'STATION', 'STATION_NAME', 'ELEVATION', 'REPORTTPYE'])\n",
    "frame = frame.filter(cols)"
   ]
  },
  {
   "cell_type": "markdown",
   "metadata": {},
   "source": [
    "#### Bad Data\n",
    "We need to take a look at our DataFrame and verify all of our rows contain good values."
   ]
  },
  {
   "cell_type": "code",
   "execution_count": 4,
   "metadata": {},
   "outputs": [
    {
     "name": "stdout",
     "output_type": "stream",
     "text": [
      "There are 4 problems in HOURLYDRYBULBTEMPF.\n",
      "There are 0 problems in HOURLYPrecip.\n",
      "There are 6 problems in HOURLYStationPressure.\n",
      "There are 31 problems in HOURLYRelativeHumidity.\n"
     ]
    }
   ],
   "source": [
    "for col in cols:\n",
    "    blanks = frame[pd.isna(frame[col])].shape[0]\n",
    "    print(\"There are {} problems in {}.\".format(blanks,col))"
   ]
  },
  {
   "cell_type": "markdown",
   "metadata": {},
   "source": [
    "#### Fixing Data\n",
    "So we are showing issues. So how do we want to handle them? Easiest way is just to throw it out, but I don't think that would be the best way to handle it. A better yet flawed method of fixing our data is to simply fill forward our data from the rows above. "
   ]
  },
  {
   "cell_type": "code",
   "execution_count": 5,
   "metadata": {},
   "outputs": [
    {
     "name": "stdout",
     "output_type": "stream",
     "text": [
      "There are 0 problems in HOURLYDRYBULBTEMPF.\n",
      "There are 0 problems in HOURLYPrecip.\n",
      "There are 0 problems in HOURLYStationPressure.\n",
      "There are 0 problems in HOURLYRelativeHumidity.\n"
     ]
    }
   ],
   "source": [
    "frame = frame.fillna(method='ffill')\n",
    "\n",
    "for col in cols:\n",
    "    blanks = frame[pd.isna(frame[col])].shape[0]\n",
    "    print(\"There are {} problems in {}.\".format(blanks,col))"
   ]
  },
  {
   "cell_type": "markdown",
   "metadata": {},
   "source": [
    "#### Establish our Samples\n",
    "We pull out the we days and dry days from our frame and then sample from the combined lists. We take an equal sample from both of those samples."
   ]
  },
  {
   "cell_type": "code",
   "execution_count": 6,
   "metadata": {},
   "outputs": [],
   "source": [
    "seed = 42\n",
    "yCol = {'HOURLYPrecip'}\n",
    "xCol = cols - yCol\n",
    "# wetDays = frame[frame[list(yCol)] != 'NONE']  #This doesn't work as its not the same\n",
    "wetDays = frame[frame.HOURLYPrecip != 'NONE']\n",
    "dryDays = frame[frame.HOURLYPrecip != 'RAIN']\n",
    "dryDays = dryDays.sample(n=wetDays.shape[0], replace=False, random_state=seed)\n",
    "samples = pd.concat([dryDays,wetDays])\n",
    "samplesX = samples[list(xCol)].values\n",
    "# samplesY = samples[list(yCol)].values    #Again, referencing yCol doesn't work.\n",
    "samplesY = samples.HOURLYPrecip.values"
   ]
  },
  {
   "cell_type": "markdown",
   "metadata": {},
   "source": [
    "### Model Testing\n",
    "Now we can start to do the heavy lifting. We will use the same sample for all of our testing.\n",
    "\n",
    "#### Logistic Regression -- Baseline"
   ]
  },
  {
   "cell_type": "code",
   "execution_count": 7,
   "metadata": {},
   "outputs": [],
   "source": [
    "from sklearn.model_selection import cross_val_score, cross_val_predict\n",
    "from sklearn.metrics import *\n",
    "\n",
    "from sklearn.linear_model import LogisticRegression\n",
    "logReg = LogisticRegression()\n",
    "lrScores = cross_val_score(logReg, samplesX, samplesY, cv=5)\n",
    "lrPred = cross_val_predict(logReg, samplesX, samplesY, cv=5)"
   ]
  },
  {
   "cell_type": "markdown",
   "metadata": {},
   "source": [
    "#### Gradient Boosting"
   ]
  },
  {
   "cell_type": "code",
   "execution_count": 8,
   "metadata": {},
   "outputs": [
    {
     "name": "stderr",
     "output_type": "stream",
     "text": [
      "c:\\users\\steve\\.virtualenvs\\fun_data_sci-eylsbe5b\\lib\\site-packages\\sklearn\\ensemble\\weight_boosting.py:29: DeprecationWarning: numpy.core.umath_tests is an internal NumPy module and should not be imported. It will be removed in a future NumPy release.\n",
      "  from numpy.core.umath_tests import inner1d\n"
     ]
    }
   ],
   "source": [
    "from sklearn.ensemble import GradientBoostingClassifier\n",
    "gradBoost = GradientBoostingClassifier()\n",
    "gbScores = cross_val_score(gradBoost, samplesX, samplesY, cv=5)\n",
    "gbPred = cross_val_predict(gradBoost, samplesX, samplesY, cv=5)"
   ]
  },
  {
   "cell_type": "markdown",
   "metadata": {},
   "source": [
    "#### Support Vector Machine"
   ]
  },
  {
   "cell_type": "code",
   "execution_count": 9,
   "metadata": {},
   "outputs": [],
   "source": [
    "from sklearn.svm import SVC\n",
    "suppVect = SVC()\n",
    "svcScores = cross_val_score(suppVect, samplesX, samplesY, cv=5)\n",
    "svcPred = cross_val_predict(suppVect, samplesX, samplesY, cv=5)"
   ]
  },
  {
   "cell_type": "markdown",
   "metadata": {},
   "source": [
    "#### Analysis of Test"
   ]
  },
  {
   "cell_type": "code",
   "execution_count": 10,
   "metadata": {},
   "outputs": [
    {
     "name": "stdout",
     "output_type": "stream",
     "text": [
      "Logistic Regression \tAccuracy = 73.80%\n",
      "Gradient Boosting \tAccuracy = 67.64%\n",
      "SVM \t\t\tAccuracy = 65.00%\n",
      "Just Guess NONE \tAccuracy = 82.94%\n"
     ]
    }
   ],
   "source": [
    "print(\"Logistic Regression \\tAccuracy = {0:.2%}\".format(accuracy_score(samplesY, lrPred)))\n",
    "print(\"Gradient Boosting \\tAccuracy = {0:.2%}\".format(accuracy_score(samplesY, gbPred)))\n",
    "print(\"SVM \\t\\t\\tAccuracy = {0:.2%}\".format(accuracy_score(samplesY, svcPred)))\n",
    "print(\"Just Guess NONE \\tAccuracy = {0:.2%}\".format(sum(frame.HOURLYPrecip == 'NONE') / frame.shape[0]))"
   ]
  },
  {
   "cell_type": "markdown",
   "metadata": {},
   "source": [
    "It appears that Logistic Regression is better than both Gradient Boosting and SVM. Quite surprising actually. Now onto setting up our actually fitting!\n",
    "\n",
    "### Training\n",
    "We want to use 20% of our data for our validation set and the rest for our training set.\n",
    "\n",
    "#### Sample Setups"
   ]
  },
  {
   "cell_type": "code",
   "execution_count": 11,
   "metadata": {},
   "outputs": [],
   "source": [
    "valSize = samples.shape[0] * 0.2\n",
    "\n",
    "# Reset our wet and dry days.\n",
    "wetDays = samples[samples.HOURLYPrecip != 'NONE']\n",
    "dryDays = samples[samples.HOURLYPrecip != 'RAIN']\n",
    "\n",
    "valWet = wetDays.sample(n=(int(valSize/2)), replace=False, random_state=seed)\n",
    "valDry = dryDays.sample(n=(int(valSize/2)), replace=False, random_state=seed)\n",
    "valSet = pd.concat([valWet,valDry])\n",
    "valX = valSet[list(xCol)].values\n",
    "valY = valSet.HOURLYPrecip.values\n",
    "\n",
    "trainSet = samples.drop(valSet.index)\n",
    "trainX = trainSet[list(xCol)].values\n",
    "trainY = trainSet.HOURLYPrecip.values"
   ]
  },
  {
   "cell_type": "markdown",
   "metadata": {},
   "source": [
    "#### Train"
   ]
  },
  {
   "cell_type": "code",
   "execution_count": 12,
   "metadata": {},
   "outputs": [
    {
     "name": "stdout",
     "output_type": "stream",
     "text": [
      "===== Logistic Regression =====\n",
      "             precision    recall  f1-score   support\n",
      "\n",
      "       NONE       0.77      0.65      0.71       649\n",
      "       RAIN       0.70      0.81      0.75       649\n",
      "\n",
      "avg / total       0.74      0.73      0.73      1298\n",
      "\n",
      "\n",
      "===== Gradient Boosting =====\n",
      "             precision    recall  f1-score   support\n",
      "\n",
      "       NONE       0.76      0.74      0.75       649\n",
      "       RAIN       0.75      0.77      0.76       649\n",
      "\n",
      "avg / total       0.75      0.75      0.75      1298\n",
      "\n"
     ]
    }
   ],
   "source": [
    "logReg = logReg.fit(trainX, trainY)\n",
    "gradBoost = gradBoost.fit(trainX, trainY)\n",
    "\n",
    "logRegPredProbs = logReg.predict_proba(valX)[:,1]\n",
    "logRegPred = logReg.predict(valX)\n",
    "gradBoostPredProbs = gradBoost.predict_proba(valX)[:,1]\n",
    "gradBoostPred = gradBoost.predict(valX)\n",
    "\n",
    "print(\"===== Logistic Regression =====\")\n",
    "print(classification_report(valY, logRegPred))\n",
    "print(\"\\n===== Gradient Boosting =====\")\n",
    "print(classification_report(valY, gradBoostPred))"
   ]
  },
  {
   "cell_type": "markdown",
   "metadata": {},
   "source": [
    "It appears to be better than 50% (0.5) which is our guess rate on our balanced dataset.\n",
    "\n",
    "#### ROC Curve on Balanced Data\n",
    "http://scikit-learn.org/stable/auto_examples/model_selection/plot_roc.html"
   ]
  },
  {
   "cell_type": "code",
   "execution_count": 13,
   "metadata": {},
   "outputs": [
    {
     "data": {
      "image/png": "[encoded data removed]",
      "text/plain": [
       "<Figure size 432x288 with 1 Axes>"
      ]
     },
     "metadata": {
      "needs_background": "light"
     },
     "output_type": "display_data"
    },
    {
     "name": "stdout",
     "output_type": "stream",
     "text": [
      "\n",
      "===== Guess Rate =====\n",
      "'RAIN'/('RAIN' + 'NONE')  =>  649/1298 = 0.50\n"
     ]
    }
   ],
   "source": [
    "import matplotlib.pyplot as plt\n",
    "from sklearn.metrics import auc, roc_curve, roc_auc_score\n",
    "\n",
    "valNumY = (valY == \"RAIN\").astype(int)\n",
    "fprLR, tprLR, thresholdLR = roc_curve(valNumY, logRegPredProbs)\n",
    "rocAUCLR = roc_auc_score(valNumY, logRegPredProbs)\n",
    "fprGB, tprGB, thresholdGB = roc_curve(valNumY, gradBoostPredProbs)\n",
    "rocAUCGB = roc_auc_score(valNumY, gradBoostPredProbs)\n",
    "\n",
    "plt.title('ROC Curve for Precip')\n",
    "plt.plot(fprLR, tprLR, 'b', label = 'Log Reg - AUC = %0.2f' % rocAUCLR)\n",
    "plt.plot(fprGB, tprGB, 'g', label = 'Grad Boost - AUC = %0.2f' % rocAUCGB)\n",
    "plt.plot()\n",
    "plt.legend(loc = 'lower right')\n",
    "plt.plot([0, 1], [0, 1], 'r--')\n",
    "plt.xlim([0, 1])\n",
    "plt.ylim([0, 1])\n",
    "plt.ylabel('True Positive Rate')\n",
    "plt.xlabel('False Positive Rate')\n",
    "plt.show()\n",
    "\n",
    "print(\"\\n===== Guess Rate =====\")\n",
    "print(\"'RAIN'/('RAIN' + 'NONE')  =>  {}/{} = {:.2f}\".format(valWet.shape[0], valSet.shape[0], (valWet.shape[0]/valSet.shape[0])))"
   ]
  },
  {
   "cell_type": "markdown",
   "metadata": {},
   "source": [
    "It appears Gradient Boost was a bit better than Logistic Regression. While not great we are getting some interesting data. Now let's throw it at our overall dataset using the training."
   ]
  },
  {
   "cell_type": "markdown",
   "metadata": {},
   "source": [
    "#### ROC Curve on Full Dataset"
   ]
  },
  {
   "cell_type": "code",
   "execution_count": 14,
   "metadata": {},
   "outputs": [
    {
     "name": "stdout",
     "output_type": "stream",
     "text": [
      "===== Logistic Regression =====\n",
      "             precision    recall  f1-score   support\n",
      "\n",
      "       NONE       0.95      0.68      0.79     15781\n",
      "       RAIN       0.35      0.83      0.49      3246\n",
      "\n",
      "avg / total       0.85      0.71      0.74     19027\n",
      "\n",
      "\n",
      "===== Gradient Boosting =====\n",
      "             precision    recall  f1-score   support\n",
      "\n",
      "       NONE       0.95      0.76      0.84     15781\n",
      "       RAIN       0.40      0.80      0.54      3246\n",
      "\n",
      "avg / total       0.86      0.76      0.79     19027\n",
      "\n"
     ]
    }
   ],
   "source": [
    "valX_FULL = frame[list(xCol)].values\n",
    "valY_FULL = frame.HOURLYPrecip.values\n",
    "\n",
    "logRegPredProbs_FULL = logReg.predict_proba(valX_FULL)[:,1]\n",
    "logRegPred_FULL = logReg.predict(valX_FULL)\n",
    "gradBoostPredProbs_FULL = gradBoost.predict_proba(valX_FULL)[:,1]\n",
    "gradBoostPred_FULL = gradBoost.predict(valX_FULL)\n",
    "\n",
    "print(\"===== Logistic Regression =====\")\n",
    "print(classification_report(valY_FULL, logRegPred_FULL))\n",
    "print(\"\\n===== Gradient Boosting =====\")\n",
    "print(classification_report(valY_FULL, gradBoostPred_FULL))"
   ]
  },
  {
   "cell_type": "markdown",
   "metadata": {},
   "source": [
    "Both models appear to be able to guess 'NONE' very accurately. However guessing 'RAIN' is very low.\n",
    "\n",
    "#### ROC Curve on Full Dataset"
   ]
  },
  {
   "cell_type": "code",
   "execution_count": 17,
   "metadata": {},
   "outputs": [
    {
     "data": {
      "image/png": "[encoded data removed]",
      "text/plain": [
       "<Figure size 432x288 with 1 Axes>"
      ]
     },
     "metadata": {
      "needs_background": "light"
     },
     "output_type": "display_data"
    },
    {
     "name": "stdout",
     "output_type": "stream",
     "text": [
      "\n",
      "===== Guess Rate =====\n",
      "'NONE'/('RAIN' + 'NONE')  =>  15781/19027 = 0.83\n"
     ]
    }
   ],
   "source": [
    "valNumY_FULL = (valY_FULL == \"RAIN\").astype(int)\n",
    "fprLR_FULL, tprLR_FULL, thresholdLR_FULL = roc_curve(valNumY_FULL, logRegPredProbs_FULL)\n",
    "rocAUCLR_FULL = roc_auc_score(valNumY_FULL, logRegPredProbs_FULL)\n",
    "fprGB_FULL, tprGB_FULL, thresholdGB_FULL = roc_curve(valNumY_FULL, gradBoostPredProbs_FULL)\n",
    "rocAUCGB_FULL = roc_auc_score(valNumY_FULL, gradBoostPredProbs_FULL)\n",
    "\n",
    "plt.title('ROC Curve for Precip')\n",
    "plt.plot(fprLR_FULL, tprLR_FULL, 'b', label = 'Log Reg - AUC = %0.2f' % rocAUCLR_FULL)\n",
    "plt.plot(fprGB_FULL, tprGB_FULL, 'g', label = 'Grad Boost - AUC = %0.2f' % rocAUCGB_FULL)\n",
    "plt.plot()\n",
    "plt.legend(loc = 'lower right')\n",
    "plt.plot([0, 1], [0, 1], 'r--')\n",
    "plt.xlim([0, 1])\n",
    "plt.ylim([0, 1])\n",
    "plt.ylabel('True Positive Rate')\n",
    "plt.xlabel('False Positive Rate')\n",
    "plt.show()\n",
    "\n",
    "dryDays_FULL = frame[frame.HOURLYPrecip != 'RAIN']\n",
    "\n",
    "print(\"\\n===== Guess Rate =====\")\n",
    "print(\"'NONE'/('RAIN' + 'NONE')  =>  {}/{} = {:.2f}\".format(dryDays_FULL.shape[0], frame.shape[0], (dryDays_FULL.shape[0]/frame.shape[0])))"
   ]
  },
  {
   "cell_type": "markdown",
   "metadata": {},
   "source": [
    "Graphing and finding our AUC of the ROC curve it appears that Gradient Boosting comes out to about 0.86 which is slightly higher than the 0.83 of the guess rate, whereas the logistic regression fell slightly lower than the guess rate. Since our dataset is so skewed towards a value of 'NONE' always choosing 'NONE' would be a pretty accurate predictor, and as such Logistic Regression is worse than the bare minimum and Gradient Boosting is only slightly better."
   ]
  }
 ],
 "metadata": {
  "kernelspec": {
   "display_name": "Python 3",
   "language": "python",
   "name": "python3"
  },
  "language_info": {
   "codemirror_mode": {
    "name": "ipython",
    "version": 3
   },
   "file_extension": ".py",
   "mimetype": "text/x-python",
   "name": "python",
   "nbconvert_exporter": "python",
   "pygments_lexer": "ipython3",
   "version": "3.7.0"
  }
 },
 "nbformat": 4,
 "nbformat_minor": 2
}
